{
 "cells": [
  {
   "cell_type": "code",
   "execution_count": 1,
   "metadata": {},
   "outputs": [
    {
     "data": {
      "text/plain": [
       "False"
      ]
     },
     "execution_count": 1,
     "metadata": {},
     "output_type": "execute_result"
    }
   ],
   "source": [
    "import numpy as np\n",
    "key_ids=np.array([1,2,1])\n",
    "(key_ids == key_ids[0]).all()"
   ]
  },
  {
   "cell_type": "code",
   "execution_count": 2,
   "metadata": {},
   "outputs": [],
   "source": [
    "a={}\n",
    "len_candidates_list=0\n",
    "for i in range(50):\n",
    "    if i>40:\n",
    "        a[i]=i\n",
    "        len_candidates_list=len_candidates_list+i\n",
    "    else:\n",
    "        a[i]=1\n",
    "        len_candidates_list=len_candidates_list+1        \n",
    "    \n",
    "    \n",
    "\n",
    "    \n",
    "self_prob = a.copy()#item出现频次的分布，是个dict\n",
    "self_alias = self_prob.copy()\n",
    "large_q = []\n",
    "small_q = []\n",
    "\n",
    "for i in self_prob:#i是key值，itemid等\n",
    "    self_alias[i] = -1 #先全部变成-1\n",
    "    self_prob[i] = self_prob[i] / len_candidates_list * len(self_prob)#相当于做了过缩放，使得出现一次的都在0-1的范围，出现2词以上有可能在0-1范围，也有可能>1\n",
    "    if self_prob[i] > 1:#出现频次大的\n",
    "        large_q.append(i)\n",
    "    elif self_prob[i] < 1: #出现频次小的\n",
    "        small_q.append(i)\n",
    "#最终 self.alias中频率少的id对应的值为平频率大的id，代表选到这个id时，换成相应大频率id,并且越大的频率索引就越多的成为小频率索引得值，而对应大频率id值为-1,应该是选到这个id时，直接取。\n",
    "while len(large_q) != 0 and len(small_q) != 0:#循环直到large_q或small_q有一个为空，这个过程除了small_q中的索引对应的self.alias变成1外，large_q中的部分相对频率小的索引也会在self.alias变成1\n",
    "    l = large_q.pop(0)\n",
    "    s = small_q.pop(0)\n",
    "    self_alias[s] = l #alias中对应small_q中index的位置的值都变成large_q.pop(0)如类似形式 {23：32，24：-1...}\n",
    "    self_prob[l] = self_prob[l] - (1 - self_prob[s])#进行此操作后出现频率大的索引概率会减少  0-1de 范围\n",
    "    #所以每次循环只会large_q或者small_q其中一个少一个元素\n",
    "    if self_prob[l] < 1:\n",
    "        small_q.append(l)\n",
    "    elif self_prob[l] > 1:\n",
    "        large_q.append(l)"
   ]
  },
  {
   "cell_type": "code",
   "execution_count": 3,
   "metadata": {
    "scrolled": true
   },
   "outputs": [
    {
     "data": {
      "text/plain": [
       "{0: 1,\n",
       " 1: 1,\n",
       " 2: 1,\n",
       " 3: 1,\n",
       " 4: 1,\n",
       " 5: 1,\n",
       " 6: 1,\n",
       " 7: 1,\n",
       " 8: 1,\n",
       " 9: 1,\n",
       " 10: 1,\n",
       " 11: 1,\n",
       " 12: 1,\n",
       " 13: 1,\n",
       " 14: 1,\n",
       " 15: 1,\n",
       " 16: 1,\n",
       " 17: 1,\n",
       " 18: 1,\n",
       " 19: 1,\n",
       " 20: 1,\n",
       " 21: 1,\n",
       " 22: 1,\n",
       " 23: 1,\n",
       " 24: 1,\n",
       " 25: 1,\n",
       " 26: 1,\n",
       " 27: 1,\n",
       " 28: 1,\n",
       " 29: 1,\n",
       " 30: 1,\n",
       " 31: 1,\n",
       " 32: 1,\n",
       " 33: 1,\n",
       " 34: 1,\n",
       " 35: 1,\n",
       " 36: 1,\n",
       " 37: 1,\n",
       " 38: 1,\n",
       " 39: 1,\n",
       " 40: 1,\n",
       " 41: 41,\n",
       " 42: 42,\n",
       " 43: 43,\n",
       " 44: 44,\n",
       " 45: 45,\n",
       " 46: 46,\n",
       " 47: 47,\n",
       " 48: 48,\n",
       " 49: 49}"
      ]
     },
     "execution_count": 3,
     "metadata": {},
     "output_type": "execute_result"
    }
   ],
   "source": [
    "a"
   ]
  },
  {
   "cell_type": "code",
   "execution_count": 5,
   "metadata": {
    "scrolled": true
   },
   "outputs": [
    {
     "data": {
      "text/plain": [
       "{0: 0.11210762331838565,\n",
       " 1: 0.11210762331838565,\n",
       " 2: 0.11210762331838565,\n",
       " 3: 0.11210762331838565,\n",
       " 4: 0.11210762331838565,\n",
       " 5: 0.11210762331838565,\n",
       " 6: 0.11210762331838565,\n",
       " 7: 0.11210762331838565,\n",
       " 8: 0.11210762331838565,\n",
       " 9: 0.11210762331838565,\n",
       " 10: 0.11210762331838565,\n",
       " 11: 0.11210762331838565,\n",
       " 12: 0.11210762331838565,\n",
       " 13: 0.11210762331838565,\n",
       " 14: 0.11210762331838565,\n",
       " 15: 0.11210762331838565,\n",
       " 16: 0.11210762331838565,\n",
       " 17: 0.11210762331838565,\n",
       " 18: 0.11210762331838565,\n",
       " 19: 0.11210762331838565,\n",
       " 20: 0.11210762331838565,\n",
       " 21: 0.11210762331838565,\n",
       " 22: 0.11210762331838565,\n",
       " 23: 0.11210762331838565,\n",
       " 24: 0.11210762331838565,\n",
       " 25: 0.11210762331838565,\n",
       " 26: 0.11210762331838565,\n",
       " 27: 0.11210762331838565,\n",
       " 28: 0.11210762331838565,\n",
       " 29: 0.11210762331838565,\n",
       " 30: 0.11210762331838565,\n",
       " 31: 0.11210762331838565,\n",
       " 32: 0.11210762331838565,\n",
       " 33: 0.11210762331838565,\n",
       " 34: 0.11210762331838565,\n",
       " 35: 0.11210762331838565,\n",
       " 36: 0.11210762331838565,\n",
       " 37: 0.11210762331838565,\n",
       " 38: 0.11210762331838565,\n",
       " 39: 0.11210762331838565,\n",
       " 40: 0.11210762331838565,\n",
       " 41: 0.15695067264574047,\n",
       " 42: 0.2690582959641258,\n",
       " 43: 0.381165919282512,\n",
       " 44: 0.49327354260089684,\n",
       " 45: 0.6053811659192821,\n",
       " 46: 0.7623318385650232,\n",
       " 47: 0.9865470852017938,\n",
       " 48: 0.8161434977578484,\n",
       " 49: 1.0000000000000022}"
      ]
     },
     "execution_count": 5,
     "metadata": {},
     "output_type": "execute_result"
    }
   ],
   "source": [
    "self_prob"
   ]
  },
  {
   "cell_type": "code",
   "execution_count": 4,
   "metadata": {
    "scrolled": true
   },
   "outputs": [
    {
     "data": {
      "text/plain": [
       "{0: 41,\n",
       " 1: 42,\n",
       " 2: 43,\n",
       " 3: 44,\n",
       " 4: 45,\n",
       " 5: 46,\n",
       " 6: 47,\n",
       " 7: 48,\n",
       " 8: 49,\n",
       " 9: 41,\n",
       " 10: 42,\n",
       " 11: 43,\n",
       " 12: 44,\n",
       " 13: 45,\n",
       " 14: 46,\n",
       " 15: 47,\n",
       " 16: 48,\n",
       " 17: 49,\n",
       " 18: 41,\n",
       " 19: 42,\n",
       " 20: 43,\n",
       " 21: 44,\n",
       " 22: 45,\n",
       " 23: 46,\n",
       " 24: 47,\n",
       " 25: 48,\n",
       " 26: 49,\n",
       " 27: 41,\n",
       " 28: 42,\n",
       " 29: 43,\n",
       " 30: 44,\n",
       " 31: 45,\n",
       " 32: 46,\n",
       " 33: 47,\n",
       " 34: 48,\n",
       " 35: 49,\n",
       " 36: 41,\n",
       " 37: 42,\n",
       " 38: 43,\n",
       " 39: 44,\n",
       " 40: 45,\n",
       " 41: 46,\n",
       " 42: 47,\n",
       " 43: 48,\n",
       " 44: 49,\n",
       " 45: 48,\n",
       " 46: 49,\n",
       " 47: 49,\n",
       " 48: 49,\n",
       " 49: -1}"
      ]
     },
     "execution_count": 4,
     "metadata": {},
     "output_type": "execute_result"
    }
   ],
   "source": [
    "self_alias"
   ]
  },
  {
   "cell_type": "code",
   "execution_count": null,
   "metadata": {},
   "outputs": [],
   "source": []
  }
 ],
 "metadata": {
  "kernelspec": {
   "display_name": "Python 3 (ipykernel)",
   "language": "python",
   "name": "python3"
  },
  "language_info": {
   "codemirror_mode": {
    "name": "ipython",
    "version": 3
   },
   "file_extension": ".py",
   "mimetype": "text/x-python",
   "name": "python",
   "nbconvert_exporter": "python",
   "pygments_lexer": "ipython3",
   "version": "3.7.12"
  }
 },
 "nbformat": 4,
 "nbformat_minor": 2
}
