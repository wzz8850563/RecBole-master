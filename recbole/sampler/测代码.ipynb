{
 "cells": [
  {
   "cell_type": "code",
   "execution_count": 1,
   "metadata": {},
   "outputs": [
    {
     "data": {
      "text/plain": [
       "False"
      ]
     },
     "execution_count": 1,
     "metadata": {},
     "output_type": "execute_result"
    }
   ],
   "source": [
    "import numpy as np\n",
    "key_ids=np.array([1,2,1])\n",
    "(key_ids == key_ids[0]).all()"
   ]
  },
  {
   "cell_type": "code",
   "execution_count": 23,
   "metadata": {},
   "outputs": [],
   "source": [
    "a={}\n",
    "len_candidates_list=0\n",
    "for i in range(50):\n",
    "    if i>40:\n",
    "        a[i]=i-30\n",
    "        len_candidates_list=len_candidates_list+i-30\n",
    "    else:\n",
    "        a[i]=1\n",
    "        len_candidates_list=len_candidates_list+1        \n",
    "    \n",
    "    \n",
    "\n",
    "    \n",
    "self_prob = a.copy()#item出现频次的分布，是个dict\n",
    "self_alias = self_prob.copy()\n",
    "large_q = []\n",
    "small_q = []\n",
    "\n",
    "for i in self_prob:#i是key值，itemid等\n",
    "    self_alias[i] = -1 #先全部变成-1\n",
    "    self_prob[i] = self_prob[i] / len_candidates_list * len(self_prob)#相当于做了过缩放，使得出现一次的都在0-1的范围，出现2词以上有可能在0-1范围，也有可能>1\n",
    "    if self_prob[i] > 1:#出现频次大的\n",
    "        large_q.append(i)\n",
    "    elif self_prob[i] < 1: #出现频次小的\n",
    "        small_q.append(i)\n",
    "#最终 self.alias中频率少的id对应的值为平频率大的id，代表选到这个id时，换成相应大频率id,并且越大的频率索引就越多的成为小频率索引得值，而对应大频率id值为-1,应该是选到这个id时，直接取。\n",
    "while len(large_q) != 0 and len(small_q) != 0:#循环直到large_q或small_q有一个为空，这个过程除了small_q中的索引对应的self.alias变成1外，large_q中的部分相对频率小的索引也会在self.alias变成1\n",
    "    l = large_q.pop(0)\n",
    "    s = small_q.pop(0)\n",
    "    self_alias[s] = l #alias中对应small_q中index的位置的值都变成large_q.pop(0)如类似形式 {23：32，24：-1...}\n",
    "    self_prob[l] = self_prob[l] - (1 - self_prob[s])#进行此操作后出现频率大的索引概率会减少  0-1de 范围\n",
    "    #所以每次循环只会large_q或者small_q其中一个少一个元素\n",
    "    if self_prob[l] < 1:\n",
    "        small_q.append(l)\n",
    "    elif self_prob[l] > 1:\n",
    "        large_q.append(l)"
   ]
  },
  {
   "cell_type": "code",
   "execution_count": 24,
   "metadata": {
    "scrolled": true
   },
   "outputs": [
    {
     "data": {
      "text/plain": [
       "{0: 1,\n",
       " 1: 1,\n",
       " 2: 1,\n",
       " 3: 1,\n",
       " 4: 1,\n",
       " 5: 1,\n",
       " 6: 1,\n",
       " 7: 1,\n",
       " 8: 1,\n",
       " 9: 1,\n",
       " 10: 1,\n",
       " 11: 1,\n",
       " 12: 1,\n",
       " 13: 1,\n",
       " 14: 1,\n",
       " 15: 1,\n",
       " 16: 1,\n",
       " 17: 1,\n",
       " 18: 1,\n",
       " 19: 1,\n",
       " 20: 1,\n",
       " 21: 1,\n",
       " 22: 1,\n",
       " 23: 1,\n",
       " 24: 1,\n",
       " 25: 1,\n",
       " 26: 1,\n",
       " 27: 1,\n",
       " 28: 1,\n",
       " 29: 1,\n",
       " 30: 1,\n",
       " 31: 1,\n",
       " 32: 1,\n",
       " 33: 1,\n",
       " 34: 1,\n",
       " 35: 1,\n",
       " 36: 1,\n",
       " 37: 1,\n",
       " 38: 1,\n",
       " 39: 1,\n",
       " 40: 1,\n",
       " 41: 11,\n",
       " 42: 12,\n",
       " 43: 13,\n",
       " 44: 14,\n",
       " 45: 15,\n",
       " 46: 16,\n",
       " 47: 17,\n",
       " 48: 18,\n",
       " 49: 19}"
      ]
     },
     "execution_count": 24,
     "metadata": {},
     "output_type": "execute_result"
    }
   ],
   "source": [
    "a"
   ]
  },
  {
   "cell_type": "code",
   "execution_count": 25,
   "metadata": {
    "scrolled": true
   },
   "outputs": [
    {
     "data": {
      "text/plain": [
       "{0: 0.2840909090909091,\n",
       " 1: 0.2840909090909091,\n",
       " 2: 0.2840909090909091,\n",
       " 3: 0.2840909090909091,\n",
       " 4: 0.2840909090909091,\n",
       " 5: 0.2840909090909091,\n",
       " 6: 0.2840909090909091,\n",
       " 7: 0.2840909090909091,\n",
       " 8: 0.2840909090909091,\n",
       " 9: 0.2840909090909091,\n",
       " 10: 0.2840909090909091,\n",
       " 11: 0.2840909090909091,\n",
       " 12: 0.2840909090909091,\n",
       " 13: 0.2840909090909091,\n",
       " 14: 0.2840909090909091,\n",
       " 15: 0.2840909090909091,\n",
       " 16: 0.2840909090909091,\n",
       " 17: 0.2840909090909091,\n",
       " 18: 0.2840909090909091,\n",
       " 19: 0.2840909090909091,\n",
       " 20: 0.2840909090909091,\n",
       " 21: 0.2840909090909091,\n",
       " 22: 0.2840909090909091,\n",
       " 23: 0.2840909090909091,\n",
       " 24: 0.2840909090909091,\n",
       " 25: 0.2840909090909091,\n",
       " 26: 0.2840909090909091,\n",
       " 27: 0.2840909090909091,\n",
       " 28: 0.2840909090909091,\n",
       " 29: 0.2840909090909091,\n",
       " 30: 0.2840909090909091,\n",
       " 31: 0.2840909090909091,\n",
       " 32: 0.2840909090909091,\n",
       " 33: 0.2840909090909091,\n",
       " 34: 0.2840909090909091,\n",
       " 35: 0.2840909090909091,\n",
       " 36: 0.2840909090909091,\n",
       " 37: 0.2840909090909091,\n",
       " 38: 0.2840909090909091,\n",
       " 39: 0.2840909090909091,\n",
       " 40: 0.2840909090909091,\n",
       " 41: 0.9772727272727275,\n",
       " 42: 0.5454545454545454,\n",
       " 43: 0.829545454545455,\n",
       " 44: 0.39772727272727293,\n",
       " 45: 0.6818181818181817,\n",
       " 46: 0.9659090909090917,\n",
       " 47: 0.6250000000000004,\n",
       " 48: 0.7613636363636371,\n",
       " 49: 1.0000000000000027}"
      ]
     },
     "execution_count": 25,
     "metadata": {},
     "output_type": "execute_result"
    }
   ],
   "source": [
    "self_prob"
   ]
  },
  {
   "cell_type": "code",
   "execution_count": 27,
   "metadata": {
    "scrolled": true
   },
   "outputs": [
    {
     "data": {
      "text/plain": [
       "{0: 41,\n",
       " 1: 42,\n",
       " 2: 43,\n",
       " 3: 44,\n",
       " 4: 45,\n",
       " 5: 46,\n",
       " 6: 47,\n",
       " 7: 48,\n",
       " 8: 49,\n",
       " 9: 41,\n",
       " 10: 42,\n",
       " 11: 43,\n",
       " 12: 44,\n",
       " 13: 45,\n",
       " 14: 46,\n",
       " 15: 47,\n",
       " 16: 48,\n",
       " 17: 49,\n",
       " 18: 41,\n",
       " 19: 42,\n",
       " 20: 43,\n",
       " 21: 44,\n",
       " 22: 45,\n",
       " 23: 46,\n",
       " 24: 47,\n",
       " 25: 48,\n",
       " 26: 49,\n",
       " 27: 42,\n",
       " 28: 43,\n",
       " 29: 44,\n",
       " 30: 45,\n",
       " 31: 46,\n",
       " 32: 47,\n",
       " 33: 48,\n",
       " 34: 49,\n",
       " 35: 44,\n",
       " 36: 45,\n",
       " 37: 46,\n",
       " 38: 47,\n",
       " 39: 48,\n",
       " 40: 49,\n",
       " 41: 47,\n",
       " 42: 48,\n",
       " 43: 49,\n",
       " 44: 47,\n",
       " 45: 48,\n",
       " 46: 49,\n",
       " 47: 49,\n",
       " 48: 49,\n",
       " 49: -1}"
      ]
     },
     "execution_count": 27,
     "metadata": {},
     "output_type": "execute_result"
    }
   ],
   "source": [
    "self_alias"
   ]
  },
  {
   "cell_type": "code",
   "execution_count": 29,
   "metadata": {},
   "outputs": [],
   "source": [
    "sample_num=50\n",
    "keys = list(self_prob.keys())\n",
    "random_index_list = np.random.randint(0, len(keys), sample_num)#从0--len(keys)-1 这么多个整数随机采样sample_num个，可能会重复\n",
    "random_prob_list = np.random.random(sample_num)#sample_num个0-1的概率值\n",
    "final_random_list = []\n",
    "\n",
    "for idx, prob in zip(random_index_list, random_prob_list):\n",
    "    if self_prob[keys[idx]] > prob:#self.prob越大越可能触发该条件\n",
    "        final_random_list.append(keys[idx])\n",
    "    else:\n",
    "        final_random_list.append(self_alias[keys[idx]])#keys[idx]为小频率id时得对应的大频率id,keys[idx]为大频率id时-1\n"
   ]
  },
  {
   "cell_type": "code",
   "execution_count": 30,
   "metadata": {
    "scrolled": true
   },
   "outputs": [
    {
     "data": {
      "text/plain": [
       "[46,\n",
       " 34,\n",
       " 49,\n",
       " 44,\n",
       " 46,\n",
       " 48,\n",
       " 42,\n",
       " 45,\n",
       " 48,\n",
       " 48,\n",
       " 46,\n",
       " 48,\n",
       " 12,\n",
       " 42,\n",
       " 47,\n",
       " 17,\n",
       " 47,\n",
       " 38,\n",
       " 1,\n",
       " 44,\n",
       " 48,\n",
       " 26,\n",
       " 47,\n",
       " 48,\n",
       " 47,\n",
       " 27,\n",
       " 44,\n",
       " 16,\n",
       " 14,\n",
       " 47,\n",
       " 2,\n",
       " 8,\n",
       " 48,\n",
       " 47,\n",
       " 43,\n",
       " 42,\n",
       " 41,\n",
       " 43,\n",
       " 6,\n",
       " 47,\n",
       " 44,\n",
       " 43,\n",
       " 42,\n",
       " 28,\n",
       " 47,\n",
       " 49,\n",
       " 48,\n",
       " 44,\n",
       " 47,\n",
       " 47]"
      ]
     },
     "execution_count": 30,
     "metadata": {},
     "output_type": "execute_result"
    }
   ],
   "source": [
    "final_random_list"
   ]
  },
  {
   "cell_type": "code",
   "execution_count": 31,
   "metadata": {},
   "outputs": [
    {
     "data": {
      "text/plain": [
       "{46: 3,\n",
       " 34: 1,\n",
       " 49: 2,\n",
       " 44: 5,\n",
       " 48: 8,\n",
       " 42: 4,\n",
       " 45: 1,\n",
       " 12: 1,\n",
       " 47: 10,\n",
       " 17: 1,\n",
       " 38: 1,\n",
       " 1: 1,\n",
       " 26: 1,\n",
       " 27: 1,\n",
       " 16: 1,\n",
       " 14: 1,\n",
       " 2: 1,\n",
       " 8: 1,\n",
       " 43: 3,\n",
       " 41: 1,\n",
       " 6: 1,\n",
       " 28: 1}"
      ]
     },
     "execution_count": 31,
     "metadata": {},
     "output_type": "execute_result"
    }
   ],
   "source": [
    "from collections import Counter\n",
    "dict(Counter(final_random_list))"
   ]
  },
  {
   "cell_type": "code",
   "execution_count": 32,
   "metadata": {},
   "outputs": [
    {
     "data": {
      "text/plain": [
       "array([2])"
      ]
     },
     "execution_count": 32,
     "metadata": {},
     "output_type": "execute_result"
    }
   ],
   "source": [
    "total_num=3\n",
    "value_ids=[1,3,2]\n",
    "used=[2]\n",
    "np.arange(total_num)[np.isin(value_ids, used)]"
   ]
  },
  {
   "cell_type": "code",
   "execution_count": 33,
   "metadata": {},
   "outputs": [
    {
     "data": {
      "text/plain": [
       "array([1, 2, 3, 1, 2, 3, 1, 2, 3])"
      ]
     },
     "execution_count": 33,
     "metadata": {},
     "output_type": "execute_result"
    }
   ],
   "source": [
    "np.tile([1,2,3], 3)"
   ]
  },
  {
   "cell_type": "code",
   "execution_count": 34,
   "metadata": {},
   "outputs": [
    {
     "data": {
      "text/plain": [
       "array([631,  91, 428, 535, 424])"
      ]
     },
     "execution_count": 34,
     "metadata": {},
     "output_type": "execute_result"
    }
   ],
   "source": [
    "np.random.randint(1, 1000, 5)"
   ]
  }
 ],
 "metadata": {
  "kernelspec": {
   "display_name": "Python 3 (ipykernel)",
   "language": "python",
   "name": "python3"
  },
  "language_info": {
   "codemirror_mode": {
    "name": "ipython",
    "version": 3
   },
   "file_extension": ".py",
   "mimetype": "text/x-python",
   "name": "python",
   "nbconvert_exporter": "python",
   "pygments_lexer": "ipython3",
   "version": "3.7.12"
  }
 },
 "nbformat": 4,
 "nbformat_minor": 2
}
